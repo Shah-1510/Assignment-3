{
 "cells": [
  {
   "cell_type": "code",
   "execution_count": 2,
   "id": "619156a7",
   "metadata": {},
   "outputs": [
    {
     "name": "stdout",
     "output_type": "stream",
     "text": [
      "Twinkle, twinkle, little star,\n",
      "\tHow I wonder what you are!\n",
      "\t\tUp above the world so high,\n",
      "\t\tLike a diamond in the sky.\n",
      "Twinkle, twinkle, little star,\n",
      "\tHow I wonder what you are\n"
     ]
    }
   ],
   "source": [
    "#Q1: Write a Python program to print the following string in a specific format (see the output).\n",
    "# Twinkle, twinkle, little star,\n",
    "#      How I wonder what you are!\n",
    "#             Up above the world so high,\n",
    "#             Like a diamond in the sky.\n",
    "# Twinkle, twinkle, little star,\n",
    "# How I wonder what you are\n",
    "# ---------------------------------------------------------\n",
    "\n",
    "print(\"Twinkle, twinkle, little star,\\n\\tHow I wonder what you are!\\n\\t\\tUp above the world so high,\\n\\t\\tLike a diamond in the sky.\")\n",
    "print(\"Twinkle, twinkle, little star,\\n\\tHow I wonder what you are\")\n"
   ]
  },
  {
   "cell_type": "code",
   "execution_count": 3,
   "id": "9bc01d5d",
   "metadata": {},
   "outputs": [
    {
     "name": "stdout",
     "output_type": "stream",
     "text": [
      "Python Version: \n",
      "3.8.8 (default, Apr 13 2021, 15:08:03) [MSC v.1916 64 bit (AMD64)]\n",
      "Python Version Information. :\n",
      "sys.version_info(major=3, minor=8, micro=8, releaselevel='final', serial=0)\n"
     ]
    }
   ],
   "source": [
    "# Q2: Write a Python program to get the Python version you are using\n",
    "# ---------------------------------------------------------\n",
    "\n",
    "import sys\n",
    "print(\"Python Version: \")\n",
    "print(sys.version)\n",
    "print(\"Python Version Information. :\")\n",
    "print(sys.version_info)\n"
   ]
  },
  {
   "cell_type": "code",
   "execution_count": 5,
   "id": "afeffbe5",
   "metadata": {},
   "outputs": [
    {
     "name": "stdout",
     "output_type": "stream",
     "text": [
      "Current Date and Time is: \n",
      "2021-10-23 14:40:32\n"
     ]
    }
   ],
   "source": [
    "# Q3: Write a Python program to display the current date and time.\n",
    "# ---------------------------------------------------------\n",
    "\n",
    "import datetime\n",
    "current = datetime.datetime.now()\n",
    "print(\"Current Date and Time is: \")\n",
    "print(current.strftime(\"%Y-%m-%d %H:%M:%S\"))"
   ]
  },
  {
   "cell_type": "code",
   "execution_count": 9,
   "id": "243bc758",
   "metadata": {},
   "outputs": [
    {
     "name": "stdout",
     "output_type": "stream",
     "text": [
      "Please Enter Radius of circle: 10\n",
      "The Area of Circle with Radius 10.0 is: 314.1592653589793\n"
     ]
    }
   ],
   "source": [
    "# Q4: Write a Python program which accepts the radius of a circle from the user and compute the area.\n",
    "# ---------------------------------------------------------\n",
    "\n",
    "import math\n",
    "radius = float(input(\"Please Enter Radius of circle: \"))\n",
    "area = math.pi * radius**2\n",
    "print(\"The Area of Circle with Radius \"+str(radius)+ \" is: \"+str(area))\n"
   ]
  },
  {
   "cell_type": "code",
   "execution_count": null,
   "id": "f0352c32",
   "metadata": {},
   "outputs": [],
   "source": []
  },
  {
   "cell_type": "code",
   "execution_count": 1,
   "id": "e513f0ee",
   "metadata": {},
   "outputs": [
    {
     "name": "stdout",
     "output_type": "stream",
     "text": [
      "Please Enter your First Name: Syed Muhammad\n",
      "Please Enter your Last Name: Shoaib\n",
      "Shoaib Syed Muhammad\n",
      "\n",
      "Please Enter your First Name:Syed Muhammad\n",
      "Please Enter your Last Name: Shoaib\n",
      "dammahuM deyS biaohS\n"
     ]
    }
   ],
   "source": [
    "# Q5: Write a Python program which accepts the user's first and last name and print them in reverse order with a space\n",
    "#     between them.\n",
    "# ---------------------------------------------------------\n",
    "\n",
    "fname = input(\"Please Enter your First Name: \")\n",
    "lname = input(\"Please Enter your Last Name: \")\n",
    "print(lname+\" \"+fname)\n",
    "#           OR\n",
    "firstname = input(\"\\nPlease Enter your First Name:\")\n",
    "lastname = input(\"Please Enter your Last Name: \")\n",
    "print(firstname[::-1] + \" \" + lastname[::-1])"
   ]
  },
  {
   "cell_type": "code",
   "execution_count": 4,
   "id": "88c69623",
   "metadata": {},
   "outputs": [
    {
     "name": "stdout",
     "output_type": "stream",
     "text": [
      "Please Enter 1st Number: 10\n",
      "Please Enter 2nd Number: 5\n",
      "Addition of two Number Is:  15\n"
     ]
    }
   ],
   "source": [
    "# Q6: Write a python program which takes two inputs from user and print them addition\n",
    "# ---------------------------------------------------------\n",
    "\n",
    "in1 = int(input(\"Please Enter 1st Number: \"))\n",
    "in2 = int(input(\"Please Enter 2nd Number: \"))\n",
    "add = in1 + in2\n",
    "print(\"Addition of two Number Is: \",add)"
   ]
  },
  {
   "cell_type": "code",
   "execution_count": 5,
   "id": "5ee21eb5",
   "metadata": {},
   "outputs": [
    {
     "name": "stdout",
     "output_type": "stream",
     "text": [
      "Enter marks of the English: 90\n",
      "Enter marks of the Maths: 85\n",
      "Enter marks of the Urdu: 92\n",
      "Enter marks of the Introduction to Python and dataScience: 90\n",
      "Enter marks of the C sharp: 90\n",
      "\n",
      "========== MARKSHEET ===========\n",
      "English: 90\n",
      "Maths: 85\n",
      "Urdu: 92\n",
      "Introduction to Python and dataScience: 90\n",
      "C sharp: 90\n",
      "\n",
      "Total Marks =  447 / 500\n",
      "Percentage =  89.4\n",
      "You have got 'A' Grade\n"
     ]
    }
   ],
   "source": [
    "# Q7: Write a program which takes 5 inputs from user for different subject’s marks, total it and generate mark sheet \n",
    "#     using grades ?\n",
    "# ---------------------------------------------------------\n",
    "\n",
    "sub1=int(input(\"Enter marks of the English: \"))\n",
    "sub2=int(input(\"Enter marks of the Maths: \"))\n",
    "sub3=int(input(\"Enter marks of the Urdu: \"))\n",
    "sub4=int(input(\"Enter marks of the Introduction to Python and dataScience: \"))\n",
    "sub5=int(input(\"Enter marks of the C sharp: \"))\n",
    "total = sub1+sub2+sub3+sub4+sub5;\n",
    "percentage = total / 500 * 100;\n",
    "\n",
    "print(\"\\n========== MARKSHEET ===========\")\n",
    "print(\"English:\",sub1)\n",
    "print(\"Maths:\",sub2)\n",
    "print(\"Urdu:\",sub3)\n",
    "print(\"Introduction to Python and dataScience:\",sub4)\n",
    "print(\"C sharp:\",sub5)\n",
    "print(\"\\nTotal Marks = \",total,\"/ 500\")\n",
    "print(\"Percentage = \",percentage);\n",
    "\n",
    "if percentage > 100:\n",
    "    print(\"You have entereed Wrong Numbers. Your Percentage exceeds from limit\")\n",
    "elif percentage >= 90 and percentage < 100:\n",
    "    print(\"Congratulations! You have got 'A+' Grade\");\n",
    "elif (percentage >= 80 and percentage < 90):\n",
    "    print(\"You have got 'A' Grade\");\n",
    "elif percentage >= 70 and percentage < 80:\n",
    "    print(\"You have got 'B' Grade\");\n",
    "elif percentage >= 60 and percentage < 70:\n",
    "    print(\"You have got 'C' Grade\");\n",
    "elif percentage >= 50 and percentage < 60:\n",
    "    print(\"You have got 'D' Grade\");\n",
    "elif percentage >= 33 and percentage < 50:\n",
    "    print(\"You have got 'E' Grade\");\n",
    "elif percentage < 33 and percentage > 0:\n",
    "    print(\"Oops! You have got 'F' Grade\");\n",
    "else:\n",
    "    print(\"You have entered wrong numbers\")\n"
   ]
  },
  {
   "cell_type": "code",
   "execution_count": 7,
   "id": "3d4e5b55",
   "metadata": {},
   "outputs": [
    {
     "name": "stdout",
     "output_type": "stream",
     "text": [
      "------------- EVEN/ODD -----------------\n",
      "\n",
      "Please Enter any Number: 8\n",
      "It is Even Number. \n"
     ]
    }
   ],
   "source": [
    "# Q8: Write a program which take input from user and identify that the given number is even or odd?\n",
    "# ---------------------------------------------------------\n",
    "\n",
    "print(\"------------- EVEN/ODD -----------------\")\n",
    "number = int(input(\"\\nPlease Enter any Number: \"))\n",
    "if number%2==0:\n",
    "    print(\"It is Even Number. \")\n",
    "else:\n",
    "    print(\"It is Odd Number. \")"
   ]
  },
  {
   "cell_type": "code",
   "execution_count": 13,
   "id": "64093f44",
   "metadata": {},
   "outputs": [
    {
     "name": "stdout",
     "output_type": "stream",
     "text": [
      "Length Of List is:  8\n"
     ]
    }
   ],
   "source": [
    "# Q9: Write a program which print the length of the list?\n",
    "# ---------------------------------------------------------\n",
    "\n",
    "l = [\"45\",\"56\",\"abc\",\"10\",\"89\",\"90\",\"Shoaib\",\"15\"]\n",
    "print(\"Length Of List is: \",len(l))"
   ]
  },
  {
   "cell_type": "code",
   "execution_count": 17,
   "id": "9781feaf",
   "metadata": {},
   "outputs": [
    {
     "name": "stdout",
     "output_type": "stream",
     "text": [
      "Please enter the Total Number of List Elements : 5\n",
      "Please enter the Value of 1 Element : 78\n",
      "Please enter the Value of 2 Element : 90\n",
      "Please enter the Value of 3 Element : 9\n",
      "Please enter the Value of 4 Element : 8\n",
      "Please enter the Value of 5 Element : 7\n",
      "[78, 90, 9, 8, 7]\n",
      "\n",
      " The Sum of All Element in this List is :  192\n"
     ]
    }
   ],
   "source": [
    "# Q10: Write a Python program to sum all the numeric items in a list?\n",
    "# ---------------------------------------------------------\n",
    "\n",
    "NumberList = []\n",
    "\n",
    "Num = int(input(\"Please enter the Total Number of List Elements : \"))\n",
    "for i in range(1, Num + 1):\n",
    "    value = int(input(\"Please enter the Value of %d Element : \" %i))\n",
    "    NumberList.append(value)\n",
    "\n",
    "print(NumberList)\n",
    "total = sum(NumberList)\n",
    "\n",
    "print(\"\\n The Sum of All Element in this List is : \", total)"
   ]
  },
  {
   "cell_type": "code",
   "execution_count": 19,
   "id": "773fef92",
   "metadata": {},
   "outputs": [
    {
     "name": "stdout",
     "output_type": "stream",
     "text": [
      "Please enter the Total Number of List Elements : 5\n",
      "Please enter the Value of 1 Element : 90\n",
      "Please enter the Value of 2 Element : 100\n",
      "Please enter the Value of 3 Element : 121\n",
      "Please enter the Value of 4 Element : 67\n",
      "Please enter the Value of 5 Element : 56\n",
      "[90, 100, 121, 67, 56]\n",
      "\n",
      "Largest Number In the List is:  121\n"
     ]
    }
   ],
   "source": [
    "# Q11: Write a Python program to get the largest number from a numeric list.\n",
    "# ---------------------------------------------------------\n",
    "\n",
    "NumberList = []\n",
    "\n",
    "Num = int(input(\"Please enter the Total Number of List Elements : \"))\n",
    "for i in range(1, Num + 1):\n",
    "    value = int(input(\"Please enter the Value of %d Element : \" %i))\n",
    "    NumberList.append(value)\n",
    "\n",
    "print(NumberList)\n",
    "print(\"\\nLargest Number In the List is: \",max(NumberList))\n"
   ]
  },
  {
   "cell_type": "code",
   "execution_count": 23,
   "id": "8b8c3412",
   "metadata": {},
   "outputs": [
    {
     "name": "stdout",
     "output_type": "stream",
     "text": [
      "Number that are Less Than 5 are: \n",
      "1\n",
      "1\n",
      "2\n",
      "3\n"
     ]
    }
   ],
   "source": [
    "# Q12: Take a list, say for example this one:\n",
    "# a = [1, 1, 2, 3, 5, 8, 13, 21, 34, 55, 89]\n",
    "# Write a program that prints out all the elements of the list that are less than 5.\n",
    "# ---------------------------------------------------------\n",
    "\n",
    "a = [1, 1, 2, 3, 5, 8, 13, 21, 34, 55, 89]\n",
    "print(\"Number that are Less Than 5 are: \")\n",
    "for num in a:\n",
    "    if(int(num) < 5):\n",
    "        print(str(num))\n"
   ]
  },
  {
   "cell_type": "code",
   "execution_count": null,
   "id": "0d0285d4",
   "metadata": {},
   "outputs": [],
   "source": []
  }
 ],
 "metadata": {
  "kernelspec": {
   "display_name": "Python 3",
   "language": "python",
   "name": "python3"
  },
  "language_info": {
   "codemirror_mode": {
    "name": "ipython",
    "version": 3
   },
   "file_extension": ".py",
   "mimetype": "text/x-python",
   "name": "python",
   "nbconvert_exporter": "python",
   "pygments_lexer": "ipython3",
   "version": "3.8.8"
  }
 },
 "nbformat": 4,
 "nbformat_minor": 5
}
